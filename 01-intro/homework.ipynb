{
 "cells": [
  {
   "cell_type": "code",
   "execution_count": 89,
   "id": "8211509d-d87e-4207-9c67-9b7c42b94476",
   "metadata": {},
   "outputs": [],
   "source": [
    "import pandas as pd\n",
    "import numpy as np"
   ]
  },
  {
   "cell_type": "code",
   "execution_count": 3,
   "id": "c3cebdef-95af-4a07-8df4-6200a551e901",
   "metadata": {},
   "outputs": [
    {
     "data": {
      "text/plain": [
       "'2.3.1'"
      ]
     },
     "execution_count": 3,
     "metadata": {},
     "output_type": "execute_result"
    }
   ],
   "source": [
    "pd.__version__"
   ]
  },
  {
   "cell_type": "code",
   "execution_count": 51,
   "id": "94bd0acb-31c0-4d9e-b77c-b6e93599639b",
   "metadata": {},
   "outputs": [],
   "source": [
    "df = pd.read_csv(\"car_fuel_efficiency.csv\")"
   ]
  },
  {
   "cell_type": "code",
   "execution_count": 52,
   "id": "0e772f8b-f1f1-46de-9249-08bcc85efbdf",
   "metadata": {},
   "outputs": [
    {
     "data": {
      "text/plain": [
       "Index(['engine_displacement', 'num_cylinders', 'horsepower', 'vehicle_weight',\n",
       "       'acceleration', 'model_year', 'origin', 'fuel_type', 'drivetrain',\n",
       "       'num_doors', 'fuel_efficiency_mpg'],\n",
       "      dtype='object')"
      ]
     },
     "execution_count": 52,
     "metadata": {},
     "output_type": "execute_result"
    }
   ],
   "source": [
    "df.columns"
   ]
  },
  {
   "cell_type": "code",
   "execution_count": 53,
   "id": "477ad68a-96a5-4793-b790-8f00a2bd8ef8",
   "metadata": {},
   "outputs": [
    {
     "data": {
      "text/html": [
       "<div>\n",
       "<style scoped>\n",
       "    .dataframe tbody tr th:only-of-type {\n",
       "        vertical-align: middle;\n",
       "    }\n",
       "\n",
       "    .dataframe tbody tr th {\n",
       "        vertical-align: top;\n",
       "    }\n",
       "\n",
       "    .dataframe thead th {\n",
       "        text-align: right;\n",
       "    }\n",
       "</style>\n",
       "<table border=\"1\" class=\"dataframe\">\n",
       "  <thead>\n",
       "    <tr style=\"text-align: right;\">\n",
       "      <th></th>\n",
       "      <th>engine_displacement</th>\n",
       "      <th>num_cylinders</th>\n",
       "      <th>horsepower</th>\n",
       "      <th>vehicle_weight</th>\n",
       "      <th>acceleration</th>\n",
       "      <th>model_year</th>\n",
       "      <th>origin</th>\n",
       "      <th>fuel_type</th>\n",
       "      <th>drivetrain</th>\n",
       "      <th>num_doors</th>\n",
       "      <th>fuel_efficiency_mpg</th>\n",
       "    </tr>\n",
       "  </thead>\n",
       "  <tbody>\n",
       "    <tr>\n",
       "      <th>0</th>\n",
       "      <td>170</td>\n",
       "      <td>3.0</td>\n",
       "      <td>159.0</td>\n",
       "      <td>3413.433759</td>\n",
       "      <td>17.7</td>\n",
       "      <td>2003</td>\n",
       "      <td>Europe</td>\n",
       "      <td>Gasoline</td>\n",
       "      <td>All-wheel drive</td>\n",
       "      <td>0.0</td>\n",
       "      <td>13.231729</td>\n",
       "    </tr>\n",
       "    <tr>\n",
       "      <th>1</th>\n",
       "      <td>130</td>\n",
       "      <td>5.0</td>\n",
       "      <td>97.0</td>\n",
       "      <td>3149.664934</td>\n",
       "      <td>17.8</td>\n",
       "      <td>2007</td>\n",
       "      <td>USA</td>\n",
       "      <td>Gasoline</td>\n",
       "      <td>Front-wheel drive</td>\n",
       "      <td>0.0</td>\n",
       "      <td>13.688217</td>\n",
       "    </tr>\n",
       "    <tr>\n",
       "      <th>2</th>\n",
       "      <td>170</td>\n",
       "      <td>NaN</td>\n",
       "      <td>78.0</td>\n",
       "      <td>3079.038997</td>\n",
       "      <td>15.1</td>\n",
       "      <td>2018</td>\n",
       "      <td>Europe</td>\n",
       "      <td>Gasoline</td>\n",
       "      <td>Front-wheel drive</td>\n",
       "      <td>0.0</td>\n",
       "      <td>14.246341</td>\n",
       "    </tr>\n",
       "    <tr>\n",
       "      <th>3</th>\n",
       "      <td>220</td>\n",
       "      <td>4.0</td>\n",
       "      <td>NaN</td>\n",
       "      <td>2542.392402</td>\n",
       "      <td>20.2</td>\n",
       "      <td>2009</td>\n",
       "      <td>USA</td>\n",
       "      <td>Diesel</td>\n",
       "      <td>All-wheel drive</td>\n",
       "      <td>2.0</td>\n",
       "      <td>16.912736</td>\n",
       "    </tr>\n",
       "    <tr>\n",
       "      <th>4</th>\n",
       "      <td>210</td>\n",
       "      <td>1.0</td>\n",
       "      <td>140.0</td>\n",
       "      <td>3460.870990</td>\n",
       "      <td>14.4</td>\n",
       "      <td>2009</td>\n",
       "      <td>Europe</td>\n",
       "      <td>Gasoline</td>\n",
       "      <td>All-wheel drive</td>\n",
       "      <td>2.0</td>\n",
       "      <td>12.488369</td>\n",
       "    </tr>\n",
       "  </tbody>\n",
       "</table>\n",
       "</div>"
      ],
      "text/plain": [
       "   engine_displacement  num_cylinders  horsepower  vehicle_weight  \\\n",
       "0                  170            3.0       159.0     3413.433759   \n",
       "1                  130            5.0        97.0     3149.664934   \n",
       "2                  170            NaN        78.0     3079.038997   \n",
       "3                  220            4.0         NaN     2542.392402   \n",
       "4                  210            1.0       140.0     3460.870990   \n",
       "\n",
       "   acceleration  model_year  origin fuel_type         drivetrain  num_doors  \\\n",
       "0          17.7        2003  Europe  Gasoline    All-wheel drive        0.0   \n",
       "1          17.8        2007     USA  Gasoline  Front-wheel drive        0.0   \n",
       "2          15.1        2018  Europe  Gasoline  Front-wheel drive        0.0   \n",
       "3          20.2        2009     USA    Diesel    All-wheel drive        2.0   \n",
       "4          14.4        2009  Europe  Gasoline    All-wheel drive        2.0   \n",
       "\n",
       "   fuel_efficiency_mpg  \n",
       "0            13.231729  \n",
       "1            13.688217  \n",
       "2            14.246341  \n",
       "3            16.912736  \n",
       "4            12.488369  "
      ]
     },
     "execution_count": 53,
     "metadata": {},
     "output_type": "execute_result"
    }
   ],
   "source": [
    "df.head()"
   ]
  },
  {
   "cell_type": "code",
   "execution_count": 54,
   "id": "18a2bd82-a86f-49cf-85e6-ee8b5808a960",
   "metadata": {},
   "outputs": [],
   "source": [
    "total_rows = len(df)"
   ]
  },
  {
   "cell_type": "code",
   "execution_count": 55,
   "id": "7b7e842b-f0e1-41bc-9271-f25549451ff7",
   "metadata": {},
   "outputs": [
    {
     "data": {
      "text/plain": [
       "9704"
      ]
     },
     "execution_count": 55,
     "metadata": {},
     "output_type": "execute_result"
    }
   ],
   "source": [
    "total_rows"
   ]
  },
  {
   "cell_type": "code",
   "execution_count": 56,
   "id": "ee225f44-5dec-4360-b2f3-3df25b376b58",
   "metadata": {},
   "outputs": [],
   "source": [
    "fuel_types = df['fuel_type'].unique()"
   ]
  },
  {
   "cell_type": "code",
   "execution_count": 57,
   "id": "f749ed6c-f689-4b5c-8b45-797019d7b46e",
   "metadata": {},
   "outputs": [
    {
     "data": {
      "text/plain": [
       "array(['Gasoline', 'Diesel'], dtype=object)"
      ]
     },
     "execution_count": 57,
     "metadata": {},
     "output_type": "execute_result"
    }
   ],
   "source": [
    "fuel_types"
   ]
  },
  {
   "cell_type": "code",
   "execution_count": 58,
   "id": "6e3a363b-9a73-43e4-926c-5a9ac06637bf",
   "metadata": {},
   "outputs": [],
   "source": [
    "fuel_types_count = df['fuel_type'].nunique()"
   ]
  },
  {
   "cell_type": "code",
   "execution_count": 59,
   "id": "05fb6fb2-70b2-485c-a463-d18bb98573aa",
   "metadata": {},
   "outputs": [
    {
     "data": {
      "text/plain": [
       "2"
      ]
     },
     "execution_count": 59,
     "metadata": {},
     "output_type": "execute_result"
    }
   ],
   "source": [
    "fuel_types_count"
   ]
  },
  {
   "cell_type": "code",
   "execution_count": 60,
   "id": "8e4d7b07-b1e6-455b-b213-2469e374401b",
   "metadata": {},
   "outputs": [],
   "source": [
    "missing_columns = df.columns[df.isnull().any()].tolist()"
   ]
  },
  {
   "cell_type": "code",
   "execution_count": 61,
   "id": "3430e086-0d32-44a8-b7e3-3e6c11dae7e8",
   "metadata": {},
   "outputs": [
    {
     "data": {
      "text/plain": [
       "['num_cylinders', 'horsepower', 'acceleration', 'num_doors']"
      ]
     },
     "execution_count": 61,
     "metadata": {},
     "output_type": "execute_result"
    }
   ],
   "source": [
    "missing_columns"
   ]
  },
  {
   "cell_type": "code",
   "execution_count": 62,
   "id": "bbc7cccd-8beb-48c3-9d4f-6c114cdd8214",
   "metadata": {},
   "outputs": [],
   "source": [
    "num_missing_columns = len(missing_columns)"
   ]
  },
  {
   "cell_type": "code",
   "execution_count": 63,
   "id": "e5ec0007-877a-4229-b90b-b17a113be9e0",
   "metadata": {},
   "outputs": [
    {
     "data": {
      "text/plain": [
       "4"
      ]
     },
     "execution_count": 63,
     "metadata": {},
     "output_type": "execute_result"
    }
   ],
   "source": [
    "num_missing_columns"
   ]
  },
  {
   "cell_type": "code",
   "execution_count": 64,
   "id": "237bab1b-73e1-45e6-a614-d8266d78577e",
   "metadata": {},
   "outputs": [],
   "source": [
    "df['origin_lower'] = df['origin'].str.lower()\n",
    "asian_cars = df[df['origin_lower'] == 'asia']\n",
    "max_fuel_efficiency = asian_cars['fuel_efficiency_mpg'].max()"
   ]
  },
  {
   "cell_type": "code",
   "execution_count": 65,
   "id": "b4d93d93-ca35-4a3f-b03e-1a7ff82fa522",
   "metadata": {},
   "outputs": [
    {
     "data": {
      "text/plain": [
       "np.float64(23.759122836520497)"
      ]
     },
     "execution_count": 65,
     "metadata": {},
     "output_type": "execute_result"
    }
   ],
   "source": [
    "max_fuel_efficiency"
   ]
  },
  {
   "cell_type": "code",
   "execution_count": 66,
   "id": "80beb263-708b-4a40-aa53-a0e9255450d9",
   "metadata": {},
   "outputs": [
    {
     "name": "stdout",
     "output_type": "stream",
     "text": [
      "Initial median horsepower: 149.0\n"
     ]
    }
   ],
   "source": [
    "#Initial median of horsepower (ignoring NaNs)\n",
    "median_before = df['horsepower'].median()\n",
    "print(\"Initial median horsepower:\", median_before)"
   ]
  },
  {
   "cell_type": "code",
   "execution_count": 67,
   "id": "ef290e19-68ed-4d06-8f61-d6af1fc21a84",
   "metadata": {},
   "outputs": [
    {
     "name": "stdout",
     "output_type": "stream",
     "text": [
      "Most frequent horsepower value: 152.0\n"
     ]
    }
   ],
   "source": [
    "#Most frequent value (mode)\n",
    "most_frequent = df['horsepower'].mode()[0]\n",
    "print(\"Most frequent horsepower value:\", most_frequent)"
   ]
  },
  {
   "cell_type": "code",
   "execution_count": 68,
   "id": "d3070ce6-3cea-4dd7-b1a9-b150a7a22aad",
   "metadata": {},
   "outputs": [],
   "source": [
    "#Fill NaN values with most frequent value\n",
    "df['horsepower_filled'] = df['horsepower'].fillna(most_frequent)"
   ]
  },
  {
   "cell_type": "code",
   "execution_count": 69,
   "id": "0a2d0a53-0c34-4abd-b9d2-87de65973355",
   "metadata": {},
   "outputs": [
    {
     "name": "stdout",
     "output_type": "stream",
     "text": [
      "New median horsepower: 152.0\n"
     ]
    }
   ],
   "source": [
    "median_after = df['horsepower_filled'].median()\n",
    "print(\"New median horsepower:\", median_after)"
   ]
  },
  {
   "cell_type": "code",
   "execution_count": 86,
   "id": "24bd2b06-3416-43a8-8ff1-dcf434842ab7",
   "metadata": {},
   "outputs": [],
   "source": [
    "asian_cars = df[df['origin'] == 'Asia']\n",
    "limited_df = asian_cars[['vehicle_weight','model_year']]\n",
    "limited_df.head()\n",
    "X = limited_df.head(7).to_numpy()"
   ]
  },
  {
   "cell_type": "code",
   "execution_count": 90,
   "id": "bfd1c528-cb05-4e3f-92c4-6bd46780fda6",
   "metadata": {},
   "outputs": [],
   "source": [
    "#Compute XTX, invert it\n",
    "XTX = X.T @ X\n",
    "XTX_inv = np.linalg.inv(XTX)"
   ]
  },
  {
   "cell_type": "code",
   "execution_count": 91,
   "id": "2bf9e26e-2728-4fc2-a89b-526c0d24eb57",
   "metadata": {},
   "outputs": [],
   "source": [
    "# Prepare y\n",
    "y = np.array([1100, 1300, 800, 900, 1000, 1100, 1200])"
   ]
  },
  {
   "cell_type": "code",
   "execution_count": 92,
   "id": "c5cdab1d-8f6d-4def-8c05-a7863deaa16f",
   "metadata": {},
   "outputs": [],
   "source": [
    "# Compute w = (XTX)^(-1) X^T y\n",
    "w = XTX_inv @ X.T @ y"
   ]
  },
  {
   "cell_type": "code",
   "execution_count": 94,
   "id": "43e50fbb-28c7-405c-85a2-86b9136b4b28",
   "metadata": {},
   "outputs": [
    {
     "data": {
      "text/plain": [
       "np.float64(0.5187709081074016)"
      ]
     },
     "execution_count": 94,
     "metadata": {},
     "output_type": "execute_result"
    }
   ],
   "source": [
    "# Sum of elements of w\n",
    "sum_w = w.sum()\n",
    "sum_w"
   ]
  },
  {
   "cell_type": "code",
   "execution_count": null,
   "id": "4fc297db-962a-4aed-b49b-6c27640135cb",
   "metadata": {},
   "outputs": [],
   "source": []
  }
 ],
 "metadata": {
  "kernelspec": {
   "display_name": "Python 3 (ipykernel)",
   "language": "python",
   "name": "python3"
  },
  "language_info": {
   "codemirror_mode": {
    "name": "ipython",
    "version": 3
   },
   "file_extension": ".py",
   "mimetype": "text/x-python",
   "name": "python",
   "nbconvert_exporter": "python",
   "pygments_lexer": "ipython3",
   "version": "3.12.1"
  }
 },
 "nbformat": 4,
 "nbformat_minor": 5
}
